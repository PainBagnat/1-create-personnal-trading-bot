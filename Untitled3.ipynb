{
  "nbformat": 4,
  "nbformat_minor": 0,
  "metadata": {
    "colab": {
      "name": "Untitled3.ipynb",
      "provenance": [],
      "authorship_tag": "ABX9TyN7FafAG7ETjuyts5jKIfnP",
      "include_colab_link": true
    },
    "kernelspec": {
      "name": "python3",
      "display_name": "Python 3"
    },
    "language_info": {
      "name": "python"
    }
  },
  "cells": [
    {
      "cell_type": "markdown",
      "metadata": {
        "id": "view-in-github",
        "colab_type": "text"
      },
      "source": [
        "<a href=\"https://colab.research.google.com/github/PainBagnat/1-create-personnal-trading-bot/blob/main/Untitled3.ipynb\" target=\"_parent\"><img src=\"https://colab.research.google.com/assets/colab-badge.svg\" alt=\"Open In Colab\"/></a>"
      ]
    },
    {
      "cell_type": "code",
      "execution_count": 1,
      "metadata": {
        "colab": {
          "base_uri": "https://localhost:8080/"
        },
        "id": "U8qbUiBwl8xE",
        "outputId": "6ed49eb2-0f32-4d1b-aeca-d46eea540dc5"
      },
      "outputs": [
        {
          "output_type": "stream",
          "name": "stdout",
          "text": [
            "Collecting ftx\n",
            "  Downloading ftx-1.2.0-py3-none-any.whl (7.0 kB)\n",
            "Collecting ciso8601\n",
            "  Downloading ciso8601-2.2.0.tar.gz (18 kB)\n",
            "  Installing build dependencies ... \u001b[?25l\u001b[?25hdone\n",
            "  Getting requirements to build wheel ... \u001b[?25l\u001b[?25hdone\n",
            "    Preparing wheel metadata ... \u001b[?25l\u001b[?25hdone\n",
            "Requirement already satisfied: requests in /usr/local/lib/python3.7/dist-packages (from ftx) (2.23.0)\n",
            "Requirement already satisfied: idna<3,>=2.5 in /usr/local/lib/python3.7/dist-packages (from requests->ftx) (2.10)\n",
            "Requirement already satisfied: urllib3!=1.25.0,!=1.25.1,<1.26,>=1.21.1 in /usr/local/lib/python3.7/dist-packages (from requests->ftx) (1.24.3)\n",
            "Requirement already satisfied: certifi>=2017.4.17 in /usr/local/lib/python3.7/dist-packages (from requests->ftx) (2021.10.8)\n",
            "Requirement already satisfied: chardet<4,>=3.0.2 in /usr/local/lib/python3.7/dist-packages (from requests->ftx) (3.0.4)\n",
            "Building wheels for collected packages: ciso8601\n",
            "  Building wheel for ciso8601 (PEP 517) ... \u001b[?25l\u001b[?25hdone\n",
            "  Created wheel for ciso8601: filename=ciso8601-2.2.0-cp37-cp37m-linux_x86_64.whl size=37532 sha256=35d399dcf07a6ccbe292f3495c848203defec6baafa5503f08fc48ac4e991f8d\n",
            "  Stored in directory: /root/.cache/pip/wheels/ad/25/8f/3b0a82303191efe3c1204f3741c42d8eb2b0236567e22485de\n",
            "Successfully built ciso8601\n",
            "Installing collected packages: ciso8601, ftx\n",
            "Successfully installed ciso8601-2.2.0 ftx-1.2.0\n"
          ]
        }
      ],
      "source": [
        "pip install ftx"
      ]
    },
    {
      "cell_type": "code",
      "source": [
        "pip install ciso8601"
      ],
      "metadata": {
        "colab": {
          "base_uri": "https://localhost:8080/"
        },
        "id": "Mtb0A2damLj-",
        "outputId": "b27ee356-41c9-4168-c9bb-a54af95000c4"
      },
      "execution_count": 2,
      "outputs": [
        {
          "output_type": "stream",
          "name": "stdout",
          "text": [
            "Requirement already satisfied: ciso8601 in /usr/local/lib/python3.7/dist-packages (2.2.0)\n"
          ]
        }
      ]
    },
    {
      "cell_type": "code",
      "source": [
        "pip install ta"
      ],
      "metadata": {
        "colab": {
          "base_uri": "https://localhost:8080/"
        },
        "id": "k9xG45N1mV7K",
        "outputId": "43727d7b-36d4-4443-acaf-26b2d70c4ad1"
      },
      "execution_count": 3,
      "outputs": [
        {
          "output_type": "stream",
          "name": "stdout",
          "text": [
            "Collecting ta\n",
            "  Downloading ta-0.9.0.tar.gz (25 kB)\n",
            "Requirement already satisfied: numpy in /usr/local/lib/python3.7/dist-packages (from ta) (1.21.5)\n",
            "Requirement already satisfied: pandas in /usr/local/lib/python3.7/dist-packages (from ta) (1.3.5)\n",
            "Requirement already satisfied: pytz>=2017.3 in /usr/local/lib/python3.7/dist-packages (from pandas->ta) (2018.9)\n",
            "Requirement already satisfied: python-dateutil>=2.7.3 in /usr/local/lib/python3.7/dist-packages (from pandas->ta) (2.8.2)\n",
            "Requirement already satisfied: six>=1.5 in /usr/local/lib/python3.7/dist-packages (from python-dateutil>=2.7.3->pandas->ta) (1.15.0)\n",
            "Building wheels for collected packages: ta\n",
            "  Building wheel for ta (setup.py) ... \u001b[?25l\u001b[?25hdone\n",
            "  Created wheel for ta: filename=ta-0.9.0-py3-none-any.whl size=28908 sha256=011487b5f3799ff22af61fb012c87215b06b577abf1f48da518f907feed0c3bd\n",
            "  Stored in directory: /root/.cache/pip/wheels/72/78/64/cc1c01506a1010a9845e9bd7c69333730f7174661228ea4f98\n",
            "Successfully built ta\n",
            "Installing collected packages: ta\n",
            "Successfully installed ta-0.9.0\n"
          ]
        }
      ]
    },
    {
      "cell_type": "code",
      "source": [
        "import ftx\n",
        "import pandas as pd\n",
        "import ta\n",
        "import time\n",
        "import json\n",
        "from math import *\n",
        "\n",
        "accountName = 'Trade'\n",
        "pairSymbol = 'BTC/USDT'\n",
        "fiatSymbol = 'USDT'\n",
        "cryptoSymbol = 'BTC'\n",
        "myTruncate = 4\n",
        "\n",
        "client = ftx.FtxClient(api_key='0uPD8cfbu94Wc-s88i3ZvdQDf7we6C214j2oy00v',\n",
        "                   api_secret='1uD7anUtuc9q1SJ2hPZYM2YiW-_bYhyfU9zJwPOj', subaccount_name=accountName)\n",
        "\n",
        "data = client.get_historical_data(\n",
        "    market_name=pairSymbol, \n",
        "    resolution=3600, \n",
        "    limit=650, \n",
        "    start_time=float(\n",
        "    round(time.time()))-650*3600, \n",
        "    end_time=float(round(time.time())))\n",
        "df = pd.DataFrame(data)\n",
        "\n",
        "df['SMA200'] = ta.trend.sma_indicator(df['close'], 200)\n",
        "df['SMA600'] = ta.trend.sma_indicator(df['close'], 600)\n",
        "print(df)\n",
        "\n",
        "def getBalance(myclient, coin):\n",
        "    jsonBalance = myclient.get_balances()\n",
        "    pandaBalance = pd.DataFrame(jsonBalance)\n",
        "    if pandaBalance.loc[pandaBalance['coin'] == coin].empty : return 0\n",
        "    else : return float(pandaBalance.loc[pandaBalance['coin'] == coin]['free'])\n",
        "\n",
        "def truncate(n, decimals=0):\n",
        "    r = floor(float(n)*10**decimals)/10**decimals\n",
        "    return str(r)\n",
        "    \n",
        "\n",
        "actualPrice = df['close'].iloc[-1]\n",
        "fiatAmount = getBalance(client, fiatSymbol)\n",
        "cryptoAmount = getBalance(client, cryptoSymbol)\n",
        "print(actualPrice, fiatAmount, cryptoAmount)\n",
        "\n",
        "if float(fiatAmount) > 5 and df['SMA200'].iloc[-2] > df['SMA600'].iloc[-2]:\n",
        "    quantityBuy = truncate(float(fiatAmount)/actualPrice, myTruncate)\n",
        "    buyOrder = client.place_order(\n",
        "        market=pairSymbol, \n",
        "        side=\"buy\", \n",
        "        price=None, \n",
        "        size=quantityBuy, \n",
        "        type='market')\n",
        "    print(buyOrder)\n",
        "\n",
        "if float(cryptoAmount) > 0.0001 and df['SMA200'].iloc[-2] < df['SMA600'].iloc[-2]:\n",
        "    buyOrder = client.place_order(\n",
        "        market=pairSymbol, \n",
        "        side=\"sell\", \n",
        "        price=None, \n",
        "        size=truncate(cryptoAmount, myTruncate), \n",
        "        type='market')\n",
        "    print(buyOrder)"
      ],
      "metadata": {
        "colab": {
          "base_uri": "https://localhost:8080/"
        },
        "id": "QSD5OG0tmdt7",
        "outputId": "e35f9b75-114a-4215-ae08-9a3843c1b101"
      },
      "execution_count": 4,
      "outputs": [
        {
          "output_type": "stream",
          "name": "stdout",
          "text": [
            "                     startTime          time  ...     SMA200        SMA600\n",
            "0    2022-01-21T15:00:00+00:00  1.642777e+12  ...        NaN           NaN\n",
            "1    2022-01-21T16:00:00+00:00  1.642781e+12  ...        NaN           NaN\n",
            "2    2022-01-21T17:00:00+00:00  1.642784e+12  ...        NaN           NaN\n",
            "3    2022-01-21T18:00:00+00:00  1.642788e+12  ...        NaN           NaN\n",
            "4    2022-01-21T19:00:00+00:00  1.642792e+12  ...        NaN           NaN\n",
            "..                         ...           ...  ...        ...           ...\n",
            "645  2022-02-17T12:00:00+00:00  1.645099e+12  ...  43276.460  40160.201667\n",
            "646  2022-02-17T13:00:00+00:00  1.645103e+12  ...  43269.735  40170.646667\n",
            "647  2022-02-17T14:00:00+00:00  1.645106e+12  ...  43260.885  40181.643333\n",
            "648  2022-02-17T15:00:00+00:00  1.645110e+12  ...  43251.470  40192.700000\n",
            "649  2022-02-17T16:00:00+00:00  1.645114e+12  ...  43244.475  40203.988333\n",
            "\n",
            "[650 rows x 9 columns]\n",
            "42003.0 0.06320276 0.0014\n"
          ]
        }
      ]
    }
  ]
}